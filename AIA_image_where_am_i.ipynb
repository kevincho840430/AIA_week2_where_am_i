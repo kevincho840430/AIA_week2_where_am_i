{
 "cells": [
  {
   "cell_type": "markdown",
   "metadata": {},
   "source": [
    "# AIA_image Classification Where_Am_I\n",
    "## 主要流程：\n",
    "#### 1.將照片資料讀入並分類\n",
    "#### 2.分析資料並作轉換\n",
    "##### 3.建立模型\n",
    "#### 4.測試模型準確率並畫圖\n",
    "#### 5.將結果匯出成csv並上傳\n",
    "## Import Data"
   ]
  },
  {
   "cell_type": "code",
   "execution_count": 4,
   "metadata": {},
   "outputs": [],
   "source": [
    "import numpy as np\n",
    "import cv2\n",
    "import os\n",
    "from sklearn.model_selection import train_test_split\n",
    "from keras.utils import np_utils\n",
    "from keras.layers import Dense, Activation, Flatten, Dropout, BatchNormalization\n",
    "from keras import regularizers, optimizers\n",
    "from keras.preprocessing.image import ImageDataGenerator\n",
    "from keras.datasets import cifar10\n",
    "\n",
    "import keras\n",
    "from keras.models import Sequential, load_model\n",
    "from keras.layers import Dense, Dropout, Activation, Flatten\n",
    "from keras.layers import Conv2D, MaxPooling2D, BatchNormalization, GlobalAveragePooling2D\n",
    "from keras.callbacks import EarlyStopping, ModelCheckpoint\n",
    "\n",
    "import matplotlib.pyplot as plt\n",
    "import pandas as pd\n",
    "import numpy as np"
   ]
  },
  {
   "cell_type": "markdown",
   "metadata": {},
   "source": [
    "## 1與2的部分我另外寫在utils.py裡面，並在這裡導入我已寫好的function進來"
   ]
  },
  {
   "cell_type": "code",
   "execution_count": 5,
   "metadata": {},
   "outputs": [],
   "source": [
    "from utils import load_data, load_test_data\n",
    "from utils import num_classes, epochs, batch_size"
   ]
  },
  {
   "cell_type": "markdown",
   "metadata": {},
   "source": [
    "## 將資料切割做測試並設定img_size"
   ]
  },
  {
   "cell_type": "code",
   "execution_count": 6,
   "metadata": {},
   "outputs": [],
   "source": [
    "X_train, y_train, X_valid, y_valid = load_data(test_size=0.1, img_size=256)"
   ]
  },
  {
   "cell_type": "markdown",
   "metadata": {},
   "source": [
    "## 觀察切出來的資料型態"
   ]
  },
  {
   "cell_type": "code",
   "execution_count": 7,
   "metadata": {},
   "outputs": [
    {
     "data": {
      "text/plain": [
       "(2686, 256, 256, 1)"
      ]
     },
     "execution_count": 7,
     "metadata": {},
     "output_type": "execute_result"
    }
   ],
   "source": [
    "X_train.shape "
   ]
  },
  {
   "cell_type": "code",
   "execution_count": 8,
   "metadata": {},
   "outputs": [
    {
     "data": {
      "text/plain": [
       "(2686, 15)"
      ]
     },
     "execution_count": 8,
     "metadata": {},
     "output_type": "execute_result"
    }
   ],
   "source": [
    "y_train.shape"
   ]
  },
  {
   "cell_type": "code",
   "execution_count": 9,
   "metadata": {},
   "outputs": [
    {
     "data": {
      "text/plain": [
       "(299, 256, 256, 1)"
      ]
     },
     "execution_count": 9,
     "metadata": {},
     "output_type": "execute_result"
    }
   ],
   "source": [
    "X_valid.shape"
   ]
  },
  {
   "cell_type": "code",
   "execution_count": 6,
   "metadata": {},
   "outputs": [
    {
     "data": {
      "text/plain": [
       "(299, 15)"
      ]
     },
     "execution_count": 6,
     "metadata": {},
     "output_type": "execute_result"
    }
   ],
   "source": [
    "y_valid.shape"
   ]
  },
  {
   "cell_type": "markdown",
   "metadata": {},
   "source": [
    "## 建立模型 這裡使用了5層的卷積＋1 flatten + 2 dense"
   ]
  },
  {
   "cell_type": "code",
   "execution_count": 10,
   "metadata": {},
   "outputs": [],
   "source": [
    "model = Sequential()\n",
    "\n",
    "model.add(Conv2D(64, (3, 3), padding='same', input_shape=X_train.shape[1:]))\n",
    "model.add(BatchNormalization())\n",
    "model.add(Activation(activation='relu'))\n",
    "model.add(MaxPooling2D((2, 2)))\n",
    "\n",
    "model.add(Conv2D(128, (3, 3), padding='same'))\n",
    "model.add(BatchNormalization())\n",
    "model.add(Activation(activation='relu'))\n",
    "model.add(MaxPooling2D((2, 2)))\n",
    "\n",
    "model.add(Conv2D(256, (3, 3), padding='same', activation='relu'))\n",
    "model.add(BatchNormalization())\n",
    "model.add(Activation(activation='relu'))\n",
    "model.add(MaxPooling2D((2, 2)))\n",
    "\n",
    "model.add(Conv2D(512, (3, 3), padding='same', activation='relu'))\n",
    "model.add(BatchNormalization())\n",
    "model.add(Activation(activation='relu'))\n",
    "model.add(MaxPooling2D((2, 2)))\n",
    "\n",
    "model.add(Conv2D(512, (3, 3), padding='same', activation='relu'))\n",
    "model.add(BatchNormalization())\n",
    "model.add(Activation(activation='relu'))\n",
    "model.add(MaxPooling2D((2, 2)))\n",
    "\n",
    "model.add(Flatten())\n",
    "\n",
    "model.add(Dense(128))\n",
    "model.add(BatchNormalization())\n",
    "model.add(Activation(activation='relu'))\n",
    "\n",
    "model.add(Dense(num_classes))\n",
    "model.add(BatchNormalization())\n",
    "model.add(Activation(activation='softmax'))"
   ]
  },
  {
   "cell_type": "markdown",
   "metadata": {},
   "source": [
    "## 查看模型架構"
   ]
  },
  {
   "cell_type": "code",
   "execution_count": 8,
   "metadata": {},
   "outputs": [
    {
     "name": "stdout",
     "output_type": "stream",
     "text": [
      "_________________________________________________________________\n",
      "Layer (type)                 Output Shape              Param #   \n",
      "=================================================================\n",
      "conv2d_1 (Conv2D)            (None, 224, 224, 64)      640       \n",
      "_________________________________________________________________\n",
      "batch_normalization_1 (Batch (None, 224, 224, 64)      256       \n",
      "_________________________________________________________________\n",
      "activation_1 (Activation)    (None, 224, 224, 64)      0         \n",
      "_________________________________________________________________\n",
      "max_pooling2d_1 (MaxPooling2 (None, 112, 112, 64)      0         \n",
      "_________________________________________________________________\n",
      "conv2d_2 (Conv2D)            (None, 112, 112, 128)     73856     \n",
      "_________________________________________________________________\n",
      "batch_normalization_2 (Batch (None, 112, 112, 128)     512       \n",
      "_________________________________________________________________\n",
      "activation_2 (Activation)    (None, 112, 112, 128)     0         \n",
      "_________________________________________________________________\n",
      "max_pooling2d_2 (MaxPooling2 (None, 56, 56, 128)       0         \n",
      "_________________________________________________________________\n",
      "conv2d_3 (Conv2D)            (None, 56, 56, 256)       295168    \n",
      "_________________________________________________________________\n",
      "batch_normalization_3 (Batch (None, 56, 56, 256)       1024      \n",
      "_________________________________________________________________\n",
      "activation_3 (Activation)    (None, 56, 56, 256)       0         \n",
      "_________________________________________________________________\n",
      "max_pooling2d_3 (MaxPooling2 (None, 28, 28, 256)       0         \n",
      "_________________________________________________________________\n",
      "conv2d_4 (Conv2D)            (None, 28, 28, 512)       1180160   \n",
      "_________________________________________________________________\n",
      "batch_normalization_4 (Batch (None, 28, 28, 512)       2048      \n",
      "_________________________________________________________________\n",
      "activation_4 (Activation)    (None, 28, 28, 512)       0         \n",
      "_________________________________________________________________\n",
      "max_pooling2d_4 (MaxPooling2 (None, 14, 14, 512)       0         \n",
      "_________________________________________________________________\n",
      "conv2d_5 (Conv2D)            (None, 14, 14, 512)       2359808   \n",
      "_________________________________________________________________\n",
      "batch_normalization_5 (Batch (None, 14, 14, 512)       2048      \n",
      "_________________________________________________________________\n",
      "activation_5 (Activation)    (None, 14, 14, 512)       0         \n",
      "_________________________________________________________________\n",
      "max_pooling2d_5 (MaxPooling2 (None, 7, 7, 512)         0         \n",
      "_________________________________________________________________\n",
      "flatten_1 (Flatten)          (None, 25088)             0         \n",
      "_________________________________________________________________\n",
      "dense_1 (Dense)              (None, 128)               3211392   \n",
      "_________________________________________________________________\n",
      "batch_normalization_6 (Batch (None, 128)               512       \n",
      "_________________________________________________________________\n",
      "activation_6 (Activation)    (None, 128)               0         \n",
      "_________________________________________________________________\n",
      "dense_2 (Dense)              (None, 15)                1935      \n",
      "_________________________________________________________________\n",
      "batch_normalization_7 (Batch (None, 15)                60        \n",
      "_________________________________________________________________\n",
      "activation_7 (Activation)    (None, 15)                0         \n",
      "=================================================================\n",
      "Total params: 7,129,419\n",
      "Trainable params: 7,126,189\n",
      "Non-trainable params: 3,230\n",
      "_________________________________________________________________\n"
     ]
    }
   ],
   "source": [
    "model.summary()"
   ]
  },
  {
   "cell_type": "markdown",
   "metadata": {},
   "source": [
    "## ImageDataGenerator\n",
    "#### ImageDaraGenerator為當樣本數不夠時可利用此function產生出訓練用的圖片，以下是我用的參數\n",
    "\n",
    "#### 1.width_shift_range：浮點數，圖片寬度的某個比例，數據提升時圖片水平偏移的幅度\n",
    "#### 2.height_shift_range：浮點數，圖片高度的某個比例，數據提升時圖片豎直偏移的幅度\n",
    "#### 3.shear_range：浮點數，剪切強度（逆時針方向的剪切變換角度）\n",
    "#### 4.zoom_range：浮點數或形如[lower,upper]的列表，隨機縮放的幅度，若為浮點數，則相當於[lower,upper] = [1 - zoom_range, 1+zoom_range]\n",
    "#### 5.horizo​​ntal_flip：布爾值，進行隨機水平翻轉\n",
    "#### 6.fill_mode：；‘constant’，‘nearest’，‘reflect’或‘wrap’之一，當進行變換時超出邊界的點將根據本參數給定的方法進行處理\n",
    "#### 7.cval：浮點數或整數，當fill_mode=constant時，指定要向超出邊界的點填充的值\n",
    "參考資料：https://keras-cn.readthedocs.io/en/latest/preprocessing/image/"
   ]
  },
  {
   "cell_type": "code",
   "execution_count": null,
   "metadata": {},
   "outputs": [],
   "source": [
    "#data augmentation\n",
    "datagen = ImageDataGenerator(\n",
    "    #rotation_range=10,\n",
    "    width_shift_range=0.2,\n",
    "    height_shift_range=0.2,\n",
    "    shear_range=0.2,\n",
    "    zoom_range=0.2,\n",
    "    horizontal_flip=True,\n",
    "    fill_mode='constant',\n",
    "    cval=0\n",
    ")\n",
    "datagen.fit(X_train)"
   ]
  },
  {
   "cell_type": "markdown",
   "metadata": {},
   "source": [
    "## 進行訓練\n",
    "#### 裡面有用到兩個比較不常看到的參數：\n",
    "#### 1.steps_per_epoch: 一個epoch包含的步數（每一步是一個batch的數據送入），當使用如TensorFlow數據Tensor之類的輸入張量進行訓練時，默認的None代表自動分割，即數據集樣本數/batch樣本數。\n",
    "#### 2.validation_steps: 僅當steps_per_epoch被指定時有用，在驗證集上的step總數。\n",
    "#### 參考資料：https://keras-cn.readthedocs.io/en/latest/models/model/"
   ]
  },
  {
   "cell_type": "code",
   "execution_count": 10,
   "metadata": {},
   "outputs": [
    {
     "name": "stdout",
     "output_type": "stream",
     "text": [
      "Epoch 1/200\n",
      "167/167 [==============================] - 19s 114ms/step - loss: 2.6598 - acc: 0.1569 - val_loss: 2.2492 - val_acc: 0.2642\n",
      "Epoch 2/200\n",
      "167/167 [==============================] - 16s 98ms/step - loss: 2.2704 - acc: 0.2603 - val_loss: 1.9971 - val_acc: 0.4181\n",
      "Epoch 3/200\n",
      "167/167 [==============================] - 16s 98ms/step - loss: 2.1634 - acc: 0.3037 - val_loss: 1.8936 - val_acc: 0.4281\n",
      "Epoch 4/200\n",
      "167/167 [==============================] - 16s 98ms/step - loss: 2.0663 - acc: 0.3396 - val_loss: 1.8042 - val_acc: 0.4783\n",
      "Epoch 5/200\n",
      "167/167 [==============================] - 16s 97ms/step - loss: 1.9399 - acc: 0.3983 - val_loss: 1.6460 - val_acc: 0.5284\n",
      "Epoch 6/200\n",
      "167/167 [==============================] - 16s 97ms/step - loss: 1.8995 - acc: 0.4134 - val_loss: 1.5931 - val_acc: 0.5318\n",
      "Epoch 7/200\n",
      "167/167 [==============================] - 16s 96ms/step - loss: 1.8495 - acc: 0.4372 - val_loss: 1.5208 - val_acc: 0.5652\n",
      "Epoch 8/200\n",
      "167/167 [==============================] - 16s 96ms/step - loss: 1.8149 - acc: 0.4469 - val_loss: 1.4858 - val_acc: 0.5686\n",
      "Epoch 9/200\n",
      "167/167 [==============================] - 16s 96ms/step - loss: 1.7773 - acc: 0.4700 - val_loss: 1.4512 - val_acc: 0.5819\n",
      "Epoch 10/200\n",
      "167/167 [==============================] - 16s 96ms/step - loss: 1.7165 - acc: 0.4919 - val_loss: 1.4125 - val_acc: 0.5886\n",
      "Epoch 11/200\n",
      "167/167 [==============================] - 16s 96ms/step - loss: 1.6908 - acc: 0.4986 - val_loss: 1.3796 - val_acc: 0.6221\n",
      "Epoch 12/200\n",
      "167/167 [==============================] - 16s 95ms/step - loss: 1.6433 - acc: 0.5218 - val_loss: 1.3419 - val_acc: 0.6221\n",
      "Epoch 13/200\n",
      "167/167 [==============================] - 16s 96ms/step - loss: 1.6573 - acc: 0.5135 - val_loss: 1.2980 - val_acc: 0.6355\n",
      "Epoch 14/200\n",
      "167/167 [==============================] - 16s 97ms/step - loss: 1.6135 - acc: 0.5371 - val_loss: 1.2749 - val_acc: 0.6321\n",
      "Epoch 15/200\n",
      "167/167 [==============================] - 16s 98ms/step - loss: 1.6076 - acc: 0.5273 - val_loss: 1.2452 - val_acc: 0.6488\n",
      "Epoch 16/200\n",
      "167/167 [==============================] - 16s 98ms/step - loss: 1.5611 - acc: 0.5694 - val_loss: 1.2443 - val_acc: 0.6355\n",
      "Epoch 17/200\n",
      "167/167 [==============================] - 16s 98ms/step - loss: 1.5216 - acc: 0.5722 - val_loss: 1.2146 - val_acc: 0.6522\n",
      "Epoch 18/200\n",
      "167/167 [==============================] - 16s 97ms/step - loss: 1.5448 - acc: 0.5544 - val_loss: 1.1548 - val_acc: 0.6856\n",
      "Epoch 19/200\n",
      "167/167 [==============================] - 16s 98ms/step - loss: 1.5326 - acc: 0.5709 - val_loss: 1.1541 - val_acc: 0.6823\n",
      "Epoch 20/200\n",
      "167/167 [==============================] - 16s 97ms/step - loss: 1.5067 - acc: 0.5793 - val_loss: 1.1407 - val_acc: 0.7124\n",
      "Epoch 21/200\n",
      "167/167 [==============================] - 16s 97ms/step - loss: 1.4749 - acc: 0.5925 - val_loss: 1.1309 - val_acc: 0.7023\n",
      "Epoch 22/200\n",
      "167/167 [==============================] - 16s 98ms/step - loss: 1.4893 - acc: 0.5868 - val_loss: 1.1152 - val_acc: 0.7224\n",
      "Epoch 23/200\n",
      "167/167 [==============================] - 16s 97ms/step - loss: 1.4701 - acc: 0.6001 - val_loss: 1.0640 - val_acc: 0.7224\n",
      "Epoch 24/200\n",
      "167/167 [==============================] - 16s 98ms/step - loss: 1.4327 - acc: 0.6004 - val_loss: 1.0776 - val_acc: 0.7157\n",
      "Epoch 25/200\n",
      "167/167 [==============================] - 16s 97ms/step - loss: 1.4184 - acc: 0.6192 - val_loss: 1.0648 - val_acc: 0.7291\n",
      "Epoch 26/200\n",
      "167/167 [==============================] - 16s 97ms/step - loss: 1.4253 - acc: 0.6004 - val_loss: 1.0569 - val_acc: 0.7559\n",
      "Epoch 27/200\n",
      "167/167 [==============================] - 16s 95ms/step - loss: 1.4061 - acc: 0.6109 - val_loss: 1.0533 - val_acc: 0.7324\n",
      "Epoch 28/200\n",
      "167/167 [==============================] - 16s 96ms/step - loss: 1.4048 - acc: 0.6090 - val_loss: 1.0370 - val_acc: 0.7224\n",
      "Epoch 29/200\n",
      "167/167 [==============================] - 16s 94ms/step - loss: 1.3707 - acc: 0.6416 - val_loss: 1.0336 - val_acc: 0.7358\n",
      "Epoch 30/200\n",
      "167/167 [==============================] - 16s 95ms/step - loss: 1.4077 - acc: 0.6112 - val_loss: 0.9931 - val_acc: 0.7391\n",
      "Epoch 31/200\n",
      "167/167 [==============================] - 16s 95ms/step - loss: 1.3678 - acc: 0.6303 - val_loss: 1.0026 - val_acc: 0.7358\n",
      "Epoch 32/200\n",
      "167/167 [==============================] - 16s 96ms/step - loss: 1.3409 - acc: 0.6409 - val_loss: 0.9705 - val_acc: 0.7492\n",
      "Epoch 33/200\n",
      "167/167 [==============================] - 16s 97ms/step - loss: 1.3568 - acc: 0.6295 - val_loss: 0.9950 - val_acc: 0.7458\n",
      "Epoch 34/200\n",
      "167/167 [==============================] - 16s 97ms/step - loss: 1.3256 - acc: 0.6529 - val_loss: 0.9531 - val_acc: 0.7492\n",
      "Epoch 35/200\n",
      "167/167 [==============================] - 16s 97ms/step - loss: 1.3470 - acc: 0.6321 - val_loss: 0.9555 - val_acc: 0.7559\n",
      "Epoch 36/200\n",
      "167/167 [==============================] - 16s 98ms/step - loss: 1.3176 - acc: 0.6556 - val_loss: 0.9504 - val_acc: 0.7559\n",
      "Epoch 37/200\n",
      "167/167 [==============================] - 16s 98ms/step - loss: 1.3112 - acc: 0.6482 - val_loss: 0.9498 - val_acc: 0.7726\n",
      "Epoch 38/200\n",
      "167/167 [==============================] - 16s 97ms/step - loss: 1.3279 - acc: 0.6457 - val_loss: 0.9483 - val_acc: 0.7625\n",
      "Epoch 39/200\n",
      "167/167 [==============================] - 16s 97ms/step - loss: 1.3010 - acc: 0.6561 - val_loss: 0.9281 - val_acc: 0.7525\n",
      "Epoch 40/200\n",
      "167/167 [==============================] - 16s 98ms/step - loss: 1.3169 - acc: 0.6512 - val_loss: 0.9472 - val_acc: 0.7458\n",
      "Epoch 41/200\n",
      "167/167 [==============================] - 16s 97ms/step - loss: 1.2968 - acc: 0.6627 - val_loss: 0.9345 - val_acc: 0.7559\n",
      "Epoch 42/200\n",
      "167/167 [==============================] - 16s 97ms/step - loss: 1.2609 - acc: 0.6711 - val_loss: 0.9597 - val_acc: 0.7425\n",
      "Epoch 43/200\n",
      "167/167 [==============================] - 16s 97ms/step - loss: 1.2790 - acc: 0.6695 - val_loss: 0.9211 - val_acc: 0.7625\n",
      "Epoch 44/200\n",
      "167/167 [==============================] - 16s 98ms/step - loss: 1.2520 - acc: 0.6841 - val_loss: 0.9424 - val_acc: 0.7625\n",
      "Epoch 45/200\n",
      "167/167 [==============================] - 16s 98ms/step - loss: 1.2724 - acc: 0.6594 - val_loss: 0.9191 - val_acc: 0.7492\n",
      "Epoch 46/200\n",
      "167/167 [==============================] - 16s 98ms/step - loss: 1.2709 - acc: 0.6725 - val_loss: 0.9164 - val_acc: 0.7458\n",
      "Epoch 47/200\n",
      "167/167 [==============================] - 16s 97ms/step - loss: 1.2386 - acc: 0.6850 - val_loss: 0.8947 - val_acc: 0.7559\n",
      "Epoch 48/200\n",
      "167/167 [==============================] - 16s 97ms/step - loss: 1.2581 - acc: 0.6658 - val_loss: 0.8996 - val_acc: 0.7559\n",
      "Epoch 49/200\n",
      "167/167 [==============================] - 16s 98ms/step - loss: 1.2505 - acc: 0.6731 - val_loss: 0.9063 - val_acc: 0.7559\n",
      "Epoch 50/200\n",
      "167/167 [==============================] - 16s 97ms/step - loss: 1.2251 - acc: 0.6908 - val_loss: 0.8963 - val_acc: 0.7592\n",
      "Epoch 51/200\n",
      "167/167 [==============================] - 16s 97ms/step - loss: 1.2405 - acc: 0.6811 - val_loss: 0.8676 - val_acc: 0.7692\n",
      "Epoch 52/200\n",
      "167/167 [==============================] - 16s 97ms/step - loss: 1.2255 - acc: 0.6878 - val_loss: 0.8846 - val_acc: 0.7559\n",
      "Epoch 53/200\n",
      "167/167 [==============================] - 16s 98ms/step - loss: 1.1955 - acc: 0.7010 - val_loss: 0.8770 - val_acc: 0.7625\n",
      "Epoch 54/200\n",
      "167/167 [==============================] - 16s 98ms/step - loss: 1.2141 - acc: 0.6911 - val_loss: 0.8763 - val_acc: 0.7625\n",
      "Epoch 55/200\n",
      "167/167 [==============================] - 16s 98ms/step - loss: 1.2217 - acc: 0.6855 - val_loss: 0.8970 - val_acc: 0.7592\n",
      "Epoch 56/200\n",
      "167/167 [==============================] - 16s 97ms/step - loss: 1.1998 - acc: 0.6863 - val_loss: 0.8777 - val_acc: 0.7659\n",
      "Epoch 57/200\n",
      "167/167 [==============================] - 16s 97ms/step - loss: 1.2237 - acc: 0.6754 - val_loss: 0.8612 - val_acc: 0.7625\n",
      "Epoch 58/200\n",
      "167/167 [==============================] - 16s 96ms/step - loss: 1.1841 - acc: 0.6995 - val_loss: 0.8567 - val_acc: 0.7793\n",
      "Epoch 59/200\n",
      "167/167 [==============================] - 16s 95ms/step - loss: 1.1790 - acc: 0.7034 - val_loss: 0.8274 - val_acc: 0.7793\n",
      "Epoch 60/200\n",
      "167/167 [==============================] - 16s 95ms/step - loss: 1.1815 - acc: 0.6941 - val_loss: 0.8431 - val_acc: 0.7726\n",
      "Epoch 61/200\n",
      "167/167 [==============================] - 16s 95ms/step - loss: 1.1603 - acc: 0.7051 - val_loss: 0.8497 - val_acc: 0.7692\n",
      "Epoch 62/200\n",
      "167/167 [==============================] - 16s 95ms/step - loss: 1.1753 - acc: 0.7072 - val_loss: 0.8698 - val_acc: 0.7692\n",
      "Epoch 63/200\n",
      "167/167 [==============================] - 16s 95ms/step - loss: 1.1632 - acc: 0.7077 - val_loss: 0.8304 - val_acc: 0.7726\n",
      "Epoch 64/200\n",
      "167/167 [==============================] - 16s 95ms/step - loss: 1.1826 - acc: 0.7005 - val_loss: 0.8199 - val_acc: 0.7659\n",
      "Epoch 65/200\n",
      "167/167 [==============================] - 16s 95ms/step - loss: 1.1495 - acc: 0.7260 - val_loss: 0.8149 - val_acc: 0.7826\n",
      "Epoch 66/200\n",
      "167/167 [==============================] - 16s 96ms/step - loss: 1.1632 - acc: 0.7109 - val_loss: 0.8227 - val_acc: 0.7726\n",
      "Epoch 67/200\n",
      "167/167 [==============================] - 16s 95ms/step - loss: 1.1481 - acc: 0.7165 - val_loss: 0.8328 - val_acc: 0.7759\n",
      "Epoch 68/200\n",
      "167/167 [==============================] - 16s 95ms/step - loss: 1.1729 - acc: 0.7042 - val_loss: 0.8047 - val_acc: 0.7893\n",
      "Epoch 69/200\n",
      "167/167 [==============================] - 16s 96ms/step - loss: 1.1275 - acc: 0.7327 - val_loss: 0.8097 - val_acc: 0.7926\n",
      "Epoch 70/200\n",
      "167/167 [==============================] - 16s 95ms/step - loss: 1.1458 - acc: 0.7112 - val_loss: 0.7948 - val_acc: 0.8094\n",
      "Epoch 71/200\n",
      "167/167 [==============================] - 16s 95ms/step - loss: 1.1391 - acc: 0.7257 - val_loss: 0.8071 - val_acc: 0.7926\n",
      "Epoch 72/200\n",
      "167/167 [==============================] - 16s 95ms/step - loss: 1.1307 - acc: 0.7312 - val_loss: 0.7996 - val_acc: 0.7926\n",
      "Epoch 73/200\n",
      "167/167 [==============================] - 16s 95ms/step - loss: 1.1045 - acc: 0.7279 - val_loss: 0.8027 - val_acc: 0.7893\n",
      "Epoch 74/200\n",
      "167/167 [==============================] - 16s 96ms/step - loss: 1.1367 - acc: 0.7177 - val_loss: 0.8049 - val_acc: 0.7759\n",
      "Epoch 75/200\n",
      "167/167 [==============================] - 16s 96ms/step - loss: 1.1226 - acc: 0.7223 - val_loss: 0.7949 - val_acc: 0.7793\n",
      "Epoch 76/200\n",
      "167/167 [==============================] - 16s 95ms/step - loss: 1.1165 - acc: 0.7183 - val_loss: 0.8118 - val_acc: 0.7893\n",
      "Epoch 77/200\n",
      "167/167 [==============================] - 16s 96ms/step - loss: 1.1160 - acc: 0.7180 - val_loss: 0.7709 - val_acc: 0.8060\n",
      "Epoch 78/200\n",
      "167/167 [==============================] - 16s 95ms/step - loss: 1.0969 - acc: 0.7391 - val_loss: 0.7894 - val_acc: 0.7893\n",
      "Epoch 79/200\n",
      "167/167 [==============================] - 16s 95ms/step - loss: 1.1031 - acc: 0.7246 - val_loss: 0.7929 - val_acc: 0.7826\n",
      "Epoch 80/200\n",
      "167/167 [==============================] - 16s 96ms/step - loss: 1.1102 - acc: 0.7227 - val_loss: 0.8045 - val_acc: 0.7826\n",
      "Epoch 81/200\n",
      "167/167 [==============================] - 16s 96ms/step - loss: 1.1095 - acc: 0.7293 - val_loss: 0.7644 - val_acc: 0.7926\n",
      "Epoch 82/200\n",
      "167/167 [==============================] - 16s 95ms/step - loss: 1.0776 - acc: 0.7500 - val_loss: 0.7883 - val_acc: 0.7960\n",
      "Epoch 83/200\n",
      "167/167 [==============================] - 16s 95ms/step - loss: 1.1077 - acc: 0.7250 - val_loss: 0.7786 - val_acc: 0.7993\n",
      "Epoch 84/200\n",
      "167/167 [==============================] - 16s 96ms/step - loss: 1.0647 - acc: 0.7490 - val_loss: 0.7499 - val_acc: 0.8060\n",
      "Epoch 85/200\n",
      "167/167 [==============================] - 16s 96ms/step - loss: 1.0681 - acc: 0.7516 - val_loss: 0.7516 - val_acc: 0.7860\n",
      "Epoch 86/200\n",
      "167/167 [==============================] - 16s 95ms/step - loss: 1.0977 - acc: 0.7314 - val_loss: 0.7547 - val_acc: 0.8094\n",
      "Epoch 87/200\n",
      "167/167 [==============================] - 16s 95ms/step - loss: 1.0763 - acc: 0.7379 - val_loss: 0.7712 - val_acc: 0.7926\n",
      "Epoch 88/200\n",
      "167/167 [==============================] - 16s 95ms/step - loss: 1.1041 - acc: 0.7290 - val_loss: 0.7646 - val_acc: 0.8094\n",
      "Epoch 89/200\n",
      "167/167 [==============================] - 16s 95ms/step - loss: 1.0622 - acc: 0.7498 - val_loss: 0.7159 - val_acc: 0.8094\n",
      "Epoch 90/200\n",
      "167/167 [==============================] - 16s 95ms/step - loss: 1.0665 - acc: 0.7474 - val_loss: 0.7678 - val_acc: 0.8060\n",
      "Epoch 91/200\n",
      "167/167 [==============================] - 16s 95ms/step - loss: 1.0714 - acc: 0.7410 - val_loss: 0.7379 - val_acc: 0.8060\n",
      "Epoch 92/200\n",
      "167/167 [==============================] - 16s 95ms/step - loss: 1.0838 - acc: 0.7374 - val_loss: 0.7445 - val_acc: 0.8161\n",
      "Epoch 93/200\n",
      "167/167 [==============================] - 16s 95ms/step - loss: 1.0488 - acc: 0.7544 - val_loss: 0.7631 - val_acc: 0.8094\n",
      "Epoch 94/200\n",
      "167/167 [==============================] - 16s 96ms/step - loss: 1.0629 - acc: 0.7378 - val_loss: 0.7647 - val_acc: 0.8027\n",
      "Epoch 95/200\n",
      "167/167 [==============================] - 16s 95ms/step - loss: 1.0569 - acc: 0.7444 - val_loss: 0.7709 - val_acc: 0.7793\n",
      "Epoch 96/200\n",
      "167/167 [==============================] - 16s 95ms/step - loss: 1.0426 - acc: 0.7505 - val_loss: 0.7294 - val_acc: 0.8127\n",
      "Epoch 97/200\n",
      "167/167 [==============================] - 16s 95ms/step - loss: 1.0250 - acc: 0.7483 - val_loss: 0.7370 - val_acc: 0.8194\n",
      "Epoch 98/200\n",
      "167/167 [==============================] - 16s 96ms/step - loss: 1.0417 - acc: 0.7594 - val_loss: 0.7640 - val_acc: 0.7893\n",
      "Epoch 99/200\n",
      "167/167 [==============================] - 16s 95ms/step - loss: 1.0301 - acc: 0.7619 - val_loss: 0.7425 - val_acc: 0.8060\n",
      "Epoch 100/200\n",
      "167/167 [==============================] - 16s 96ms/step - loss: 1.0279 - acc: 0.7656 - val_loss: 0.7593 - val_acc: 0.8027\n",
      "Epoch 101/200\n",
      "167/167 [==============================] - 16s 96ms/step - loss: 1.0463 - acc: 0.7496 - val_loss: 0.7149 - val_acc: 0.8261\n",
      "Epoch 102/200\n",
      "167/167 [==============================] - 16s 96ms/step - loss: 1.0191 - acc: 0.7599 - val_loss: 0.7316 - val_acc: 0.8127\n",
      "Epoch 103/200\n",
      "167/167 [==============================] - 16s 96ms/step - loss: 1.0391 - acc: 0.7588 - val_loss: 0.7355 - val_acc: 0.8161\n",
      "Epoch 104/200\n",
      "167/167 [==============================] - 16s 96ms/step - loss: 1.0346 - acc: 0.7651 - val_loss: 0.7224 - val_acc: 0.8294\n",
      "Epoch 105/200\n",
      "167/167 [==============================] - 16s 96ms/step - loss: 1.0165 - acc: 0.7668 - val_loss: 0.7650 - val_acc: 0.7926\n",
      "Epoch 106/200\n",
      "167/167 [==============================] - 16s 96ms/step - loss: 1.0065 - acc: 0.7634 - val_loss: 0.7236 - val_acc: 0.8127\n",
      "Epoch 107/200\n",
      "167/167 [==============================] - 16s 96ms/step - loss: 1.0222 - acc: 0.7464 - val_loss: 0.7545 - val_acc: 0.8161\n",
      "Epoch 108/200\n",
      "167/167 [==============================] - 16s 96ms/step - loss: 1.0135 - acc: 0.7707 - val_loss: 0.7286 - val_acc: 0.8094\n",
      "Epoch 109/200\n",
      "167/167 [==============================] - 16s 96ms/step - loss: 1.0023 - acc: 0.7710 - val_loss: 0.7086 - val_acc: 0.8194\n",
      "Epoch 110/200\n",
      "167/167 [==============================] - 16s 96ms/step - loss: 0.9934 - acc: 0.7736 - val_loss: 0.7775 - val_acc: 0.7926\n",
      "Epoch 111/200\n",
      "167/167 [==============================] - 16s 95ms/step - loss: 1.0150 - acc: 0.7611 - val_loss: 0.7381 - val_acc: 0.8094\n",
      "Epoch 112/200\n",
      "167/167 [==============================] - 16s 96ms/step - loss: 0.9803 - acc: 0.7825 - val_loss: 0.7339 - val_acc: 0.8060\n",
      "Epoch 113/200\n",
      "167/167 [==============================] - 16s 96ms/step - loss: 0.9946 - acc: 0.7676 - val_loss: 0.6943 - val_acc: 0.8294\n",
      "Epoch 114/200\n",
      "167/167 [==============================] - 16s 96ms/step - loss: 1.0128 - acc: 0.7586 - val_loss: 0.7351 - val_acc: 0.8161\n",
      "Epoch 115/200\n",
      "167/167 [==============================] - 16s 96ms/step - loss: 0.9792 - acc: 0.7773 - val_loss: 0.7293 - val_acc: 0.8161\n",
      "Epoch 116/200\n",
      "167/167 [==============================] - 16s 96ms/step - loss: 0.9795 - acc: 0.7799 - val_loss: 0.7235 - val_acc: 0.7960\n",
      "Epoch 117/200\n",
      "167/167 [==============================] - 16s 96ms/step - loss: 0.9810 - acc: 0.7817 - val_loss: 0.7186 - val_acc: 0.8060\n",
      "Epoch 118/200\n",
      "167/167 [==============================] - 16s 96ms/step - loss: 0.9812 - acc: 0.7829 - val_loss: 0.7295 - val_acc: 0.7993\n",
      "Epoch 119/200\n",
      "167/167 [==============================] - 16s 95ms/step - loss: 0.9799 - acc: 0.7834 - val_loss: 0.7404 - val_acc: 0.8094\n",
      "Epoch 120/200\n",
      "167/167 [==============================] - 16s 96ms/step - loss: 0.9759 - acc: 0.7721 - val_loss: 0.6908 - val_acc: 0.8294\n",
      "Epoch 121/200\n",
      "167/167 [==============================] - 16s 96ms/step - loss: 0.9749 - acc: 0.7855 - val_loss: 0.6907 - val_acc: 0.8328\n",
      "Epoch 122/200\n",
      "167/167 [==============================] - 16s 96ms/step - loss: 0.9730 - acc: 0.7790 - val_loss: 0.7072 - val_acc: 0.8294\n",
      "Epoch 123/200\n",
      "167/167 [==============================] - 16s 96ms/step - loss: 0.9601 - acc: 0.7891 - val_loss: 0.6694 - val_acc: 0.8428\n",
      "Epoch 124/200\n",
      "167/167 [==============================] - 16s 96ms/step - loss: 0.9389 - acc: 0.8033 - val_loss: 0.7039 - val_acc: 0.8194\n",
      "Epoch 125/200\n",
      "167/167 [==============================] - 16s 96ms/step - loss: 0.9615 - acc: 0.7824 - val_loss: 0.6940 - val_acc: 0.8261\n",
      "Epoch 126/200\n",
      "167/167 [==============================] - 16s 96ms/step - loss: 0.9690 - acc: 0.7800 - val_loss: 0.6979 - val_acc: 0.8194\n",
      "Epoch 127/200\n",
      "167/167 [==============================] - 16s 96ms/step - loss: 0.9665 - acc: 0.7777 - val_loss: 0.7615 - val_acc: 0.7993\n",
      "Epoch 128/200\n",
      "167/167 [==============================] - 16s 95ms/step - loss: 0.9470 - acc: 0.7865 - val_loss: 0.7091 - val_acc: 0.8227\n",
      "Epoch 129/200\n",
      "167/167 [==============================] - 16s 96ms/step - loss: 0.9298 - acc: 0.8064 - val_loss: 0.6912 - val_acc: 0.8194\n",
      "Epoch 130/200\n",
      "167/167 [==============================] - 16s 95ms/step - loss: 0.9470 - acc: 0.7950 - val_loss: 0.7249 - val_acc: 0.8261\n",
      "Epoch 131/200\n",
      "167/167 [==============================] - 16s 96ms/step - loss: 0.9551 - acc: 0.7877 - val_loss: 0.7205 - val_acc: 0.8161\n",
      "Epoch 132/200\n",
      "167/167 [==============================] - 16s 96ms/step - loss: 0.9378 - acc: 0.7913 - val_loss: 0.6736 - val_acc: 0.8294\n",
      "Epoch 133/200\n",
      "167/167 [==============================] - 16s 96ms/step - loss: 0.9496 - acc: 0.7887 - val_loss: 0.7076 - val_acc: 0.8328\n",
      "Epoch 134/200\n",
      "167/167 [==============================] - 16s 96ms/step - loss: 0.9478 - acc: 0.7873 - val_loss: 0.6690 - val_acc: 0.8227\n",
      "Epoch 135/200\n",
      "167/167 [==============================] - 16s 96ms/step - loss: 0.9403 - acc: 0.7825 - val_loss: 0.6793 - val_acc: 0.8294\n",
      "Epoch 136/200\n",
      "167/167 [==============================] - 16s 96ms/step - loss: 0.9466 - acc: 0.7820 - val_loss: 0.6540 - val_acc: 0.8328\n",
      "Epoch 137/200\n",
      "167/167 [==============================] - 16s 95ms/step - loss: 0.9265 - acc: 0.7951 - val_loss: 0.6747 - val_acc: 0.8194\n",
      "Epoch 138/200\n",
      "167/167 [==============================] - 16s 96ms/step - loss: 0.9252 - acc: 0.7945 - val_loss: 0.6549 - val_acc: 0.8227\n",
      "Epoch 139/200\n",
      "167/167 [==============================] - 16s 96ms/step - loss: 0.9127 - acc: 0.8056 - val_loss: 0.6849 - val_acc: 0.8261\n",
      "Epoch 140/200\n",
      "167/167 [==============================] - 16s 96ms/step - loss: 0.9163 - acc: 0.8033 - val_loss: 0.6722 - val_acc: 0.8395\n",
      "Epoch 141/200\n",
      "167/167 [==============================] - 16s 96ms/step - loss: 0.9283 - acc: 0.7953 - val_loss: 0.7039 - val_acc: 0.8161\n",
      "Epoch 142/200\n",
      "167/167 [==============================] - 16s 96ms/step - loss: 0.8963 - acc: 0.8127 - val_loss: 0.6919 - val_acc: 0.8361\n",
      "Epoch 143/200\n",
      "167/167 [==============================] - 16s 96ms/step - loss: 0.9182 - acc: 0.8026 - val_loss: 0.6971 - val_acc: 0.8127\n",
      "Epoch 144/200\n",
      "167/167 [==============================] - 16s 96ms/step - loss: 0.9094 - acc: 0.8080 - val_loss: 0.6715 - val_acc: 0.8127\n",
      "Epoch 145/200\n",
      "167/167 [==============================] - 16s 96ms/step - loss: 0.9129 - acc: 0.8047 - val_loss: 0.6703 - val_acc: 0.8194\n",
      "Epoch 146/200\n",
      "167/167 [==============================] - 16s 96ms/step - loss: 0.9165 - acc: 0.7917 - val_loss: 0.6818 - val_acc: 0.8094\n",
      "Epoch 147/200\n",
      "167/167 [==============================] - 16s 96ms/step - loss: 0.9070 - acc: 0.8083 - val_loss: 0.6848 - val_acc: 0.8328\n",
      "Epoch 148/200\n",
      "167/167 [==============================] - 16s 96ms/step - loss: 0.9045 - acc: 0.8085 - val_loss: 0.6595 - val_acc: 0.8361\n",
      "Epoch 149/200\n",
      "167/167 [==============================] - 16s 96ms/step - loss: 0.9022 - acc: 0.8089 - val_loss: 0.6899 - val_acc: 0.8261\n",
      "Epoch 150/200\n",
      "167/167 [==============================] - 16s 96ms/step - loss: 0.8930 - acc: 0.8120 - val_loss: 0.6837 - val_acc: 0.8094\n",
      "Epoch 151/200\n",
      "167/167 [==============================] - 16s 96ms/step - loss: 0.8961 - acc: 0.8060 - val_loss: 0.7144 - val_acc: 0.8227\n",
      "Epoch 152/200\n",
      "167/167 [==============================] - 16s 96ms/step - loss: 0.9031 - acc: 0.8072 - val_loss: 0.6644 - val_acc: 0.8294\n",
      "Epoch 153/200\n",
      "167/167 [==============================] - 16s 96ms/step - loss: 0.8967 - acc: 0.8071 - val_loss: 0.6801 - val_acc: 0.8361\n",
      "Epoch 154/200\n",
      "167/167 [==============================] - 16s 96ms/step - loss: 0.9046 - acc: 0.7992 - val_loss: 0.6763 - val_acc: 0.8428\n",
      "Epoch 155/200\n",
      "167/167 [==============================] - 16s 96ms/step - loss: 0.9015 - acc: 0.8082 - val_loss: 0.7096 - val_acc: 0.8161\n",
      "Epoch 156/200\n",
      "167/167 [==============================] - 16s 95ms/step - loss: 0.9027 - acc: 0.8056 - val_loss: 0.6705 - val_acc: 0.8462\n",
      "Epoch 157/200\n",
      "167/167 [==============================] - 16s 95ms/step - loss: 0.8824 - acc: 0.8128 - val_loss: 0.6712 - val_acc: 0.8194\n",
      "Epoch 158/200\n",
      "167/167 [==============================] - 16s 94ms/step - loss: 0.8645 - acc: 0.8241 - val_loss: 0.6505 - val_acc: 0.8261\n",
      "Epoch 159/200\n",
      "167/167 [==============================] - 16s 94ms/step - loss: 0.8927 - acc: 0.8012 - val_loss: 0.6775 - val_acc: 0.8294\n",
      "Epoch 160/200\n",
      "167/167 [==============================] - 16s 94ms/step - loss: 0.8749 - acc: 0.8275 - val_loss: 0.6789 - val_acc: 0.8328\n",
      "Epoch 161/200\n",
      "167/167 [==============================] - 16s 95ms/step - loss: 0.8815 - acc: 0.8170 - val_loss: 0.6521 - val_acc: 0.8328\n",
      "Epoch 162/200\n",
      "167/167 [==============================] - 16s 95ms/step - loss: 0.9017 - acc: 0.8123 - val_loss: 0.6441 - val_acc: 0.8462\n",
      "Epoch 163/200\n",
      "167/167 [==============================] - 16s 96ms/step - loss: 0.8616 - acc: 0.8195 - val_loss: 0.7021 - val_acc: 0.8328\n",
      "Epoch 164/200\n",
      "167/167 [==============================] - 16s 95ms/step - loss: 0.8715 - acc: 0.8102 - val_loss: 0.6654 - val_acc: 0.8328\n",
      "Epoch 165/200\n",
      "167/167 [==============================] - 16s 95ms/step - loss: 0.8758 - acc: 0.8078 - val_loss: 0.6863 - val_acc: 0.8094\n",
      "Epoch 166/200\n",
      "167/167 [==============================] - 16s 94ms/step - loss: 0.8809 - acc: 0.8162 - val_loss: 0.7000 - val_acc: 0.8094\n",
      "Epoch 167/200\n",
      "167/167 [==============================] - 16s 95ms/step - loss: 0.8627 - acc: 0.8151 - val_loss: 0.6549 - val_acc: 0.8395\n",
      "Epoch 168/200\n",
      "167/167 [==============================] - 16s 95ms/step - loss: 0.8750 - acc: 0.8209 - val_loss: 0.6670 - val_acc: 0.8528\n",
      "Epoch 169/200\n",
      "167/167 [==============================] - 16s 95ms/step - loss: 0.8551 - acc: 0.8296 - val_loss: 0.6720 - val_acc: 0.8328\n",
      "Epoch 170/200\n",
      "167/167 [==============================] - 16s 95ms/step - loss: 0.8547 - acc: 0.8213 - val_loss: 0.6746 - val_acc: 0.8361\n",
      "Epoch 171/200\n",
      "167/167 [==============================] - 16s 95ms/step - loss: 0.8604 - acc: 0.8292 - val_loss: 0.7250 - val_acc: 0.8027\n",
      "Epoch 172/200\n",
      "167/167 [==============================] - 16s 95ms/step - loss: 0.8533 - acc: 0.8273 - val_loss: 0.7417 - val_acc: 0.8094\n",
      "Epoch 173/200\n",
      "167/167 [==============================] - 16s 95ms/step - loss: 0.8707 - acc: 0.8150 - val_loss: 0.6824 - val_acc: 0.8428\n",
      "Epoch 174/200\n",
      "167/167 [==============================] - 16s 95ms/step - loss: 0.8493 - acc: 0.8289 - val_loss: 0.7024 - val_acc: 0.8227\n",
      "Epoch 175/200\n",
      "167/167 [==============================] - 16s 95ms/step - loss: 0.8369 - acc: 0.8251 - val_loss: 0.6874 - val_acc: 0.8060\n",
      "Epoch 176/200\n",
      "167/167 [==============================] - 16s 95ms/step - loss: 0.8584 - acc: 0.8261 - val_loss: 0.6870 - val_acc: 0.8227\n",
      "Epoch 177/200\n",
      "167/167 [==============================] - 16s 95ms/step - loss: 0.8289 - acc: 0.8334 - val_loss: 0.7131 - val_acc: 0.8094\n",
      "Epoch 178/200\n",
      "167/167 [==============================] - 16s 96ms/step - loss: 0.8406 - acc: 0.8293 - val_loss: 0.6765 - val_acc: 0.8194\n",
      "Epoch 179/200\n",
      "167/167 [==============================] - 16s 95ms/step - loss: 0.8653 - acc: 0.8278 - val_loss: 0.6772 - val_acc: 0.8328\n",
      "Epoch 180/200\n",
      "167/167 [==============================] - 16s 95ms/step - loss: 0.8435 - acc: 0.8305 - val_loss: 0.6430 - val_acc: 0.8328\n",
      "Epoch 181/200\n",
      "167/167 [==============================] - 16s 94ms/step - loss: 0.8388 - acc: 0.8324 - val_loss: 0.6436 - val_acc: 0.8562\n",
      "Epoch 182/200\n",
      "167/167 [==============================] - 16s 95ms/step - loss: 0.8450 - acc: 0.8325 - val_loss: 0.6834 - val_acc: 0.8127\n",
      "Epoch 183/200\n",
      "167/167 [==============================] - 16s 95ms/step - loss: 0.8092 - acc: 0.8392 - val_loss: 0.6666 - val_acc: 0.8227\n",
      "Epoch 184/200\n",
      "167/167 [==============================] - 16s 95ms/step - loss: 0.8001 - acc: 0.8504 - val_loss: 0.6734 - val_acc: 0.8261\n",
      "Epoch 185/200\n",
      "167/167 [==============================] - 16s 95ms/step - loss: 0.8449 - acc: 0.8262 - val_loss: 0.6598 - val_acc: 0.8328\n",
      "Epoch 186/200\n",
      "167/167 [==============================] - 16s 95ms/step - loss: 0.8007 - acc: 0.8466 - val_loss: 0.6695 - val_acc: 0.8127\n",
      "Epoch 187/200\n",
      "167/167 [==============================] - 16s 95ms/step - loss: 0.8203 - acc: 0.8277 - val_loss: 0.6674 - val_acc: 0.8161\n",
      "Epoch 188/200\n",
      "167/167 [==============================] - 16s 95ms/step - loss: 0.8460 - acc: 0.8250 - val_loss: 0.6915 - val_acc: 0.8261\n",
      "Epoch 189/200\n",
      "167/167 [==============================] - 16s 95ms/step - loss: 0.8334 - acc: 0.8329 - val_loss: 0.6905 - val_acc: 0.8161\n",
      "Epoch 190/200\n",
      "167/167 [==============================] - 16s 95ms/step - loss: 0.8327 - acc: 0.8289 - val_loss: 0.6821 - val_acc: 0.8361\n",
      "Epoch 191/200\n",
      "167/167 [==============================] - 16s 95ms/step - loss: 0.8318 - acc: 0.8357 - val_loss: 0.6841 - val_acc: 0.8227\n",
      "Epoch 192/200\n",
      "167/167 [==============================] - 16s 95ms/step - loss: 0.8278 - acc: 0.8377 - val_loss: 0.6627 - val_acc: 0.8361\n",
      "Epoch 193/200\n",
      "167/167 [==============================] - 16s 95ms/step - loss: 0.8025 - acc: 0.8450 - val_loss: 0.6575 - val_acc: 0.8462\n",
      "Epoch 194/200\n",
      "167/167 [==============================] - 16s 95ms/step - loss: 0.8156 - acc: 0.8300 - val_loss: 0.6682 - val_acc: 0.8361\n",
      "Epoch 195/200\n",
      "167/167 [==============================] - 16s 95ms/step - loss: 0.8283 - acc: 0.8277 - val_loss: 0.6620 - val_acc: 0.8294\n",
      "Epoch 196/200\n",
      "167/167 [==============================] - 16s 95ms/step - loss: 0.8383 - acc: 0.8333 - val_loss: 0.6719 - val_acc: 0.8194\n",
      "Epoch 197/200\n",
      "167/167 [==============================] - 16s 96ms/step - loss: 0.7969 - acc: 0.8486 - val_loss: 0.6682 - val_acc: 0.8361\n",
      "Epoch 198/200\n",
      "167/167 [==============================] - 16s 95ms/step - loss: 0.8251 - acc: 0.8272 - val_loss: 0.6489 - val_acc: 0.8495\n",
      "Epoch 199/200\n",
      "167/167 [==============================] - 16s 95ms/step - loss: 0.7998 - acc: 0.8428 - val_loss: 0.6396 - val_acc: 0.8528\n",
      "Epoch 200/200\n",
      "167/167 [==============================] - 16s 95ms/step - loss: 0.8123 - acc: 0.8380 - val_loss: 0.6500 - val_acc: 0.8328\n"
     ]
    }
   ],
   "source": [
    "# Fit the model on the batches generated by datagen.flow().\n",
    "batch_size = 16\n",
    "aug_ratio = 1\n",
    "epochs = 200\n",
    "optimizer = keras.optimizers.Adam(lr=10e-6)\n",
    "model.compile(loss='categorical_crossentropy',optimizer=optimizer, metrics=['accuracy'])\n",
    "steps_per_epoch = int(aug_ratio * X_train.shape[0] / batch_size)\n",
    "validation_steps = int(aug_ratio * X_valid.shape[0] / batch_size)\n",
    "model_history = model.fit_generator(datagen.flow(X_train, y_train, batch_size = batch_size),\n",
    "                                    epochs = epochs,\n",
    "                                    validation_data = (X_valid, y_valid),\n",
    "                                    steps_per_epoch=steps_per_epoch,\n",
    "                                    validation_steps=validation_steps)"
   ]
  },
  {
   "cell_type": "markdown",
   "metadata": {},
   "source": [
    "## 將model的權重存起來以便之後再利用"
   ]
  },
  {
   "cell_type": "code",
   "execution_count": 11,
   "metadata": {},
   "outputs": [],
   "source": [
    "model.save_weights('wher_am_i_200.h5')"
   ]
  },
  {
   "cell_type": "markdown",
   "metadata": {},
   "source": [
    "## 將分數印出"
   ]
  },
  {
   "cell_type": "code",
   "execution_count": 12,
   "metadata": {
    "scrolled": false
   },
   "outputs": [
    {
     "name": "stdout",
     "output_type": "stream",
     "text": [
      "299/299 [==============================] - 1s 3ms/step\n",
      "Validation loss: 0.650015394823\n",
      "Validation accuracy: 0.83277592053\n"
     ]
    }
   ],
   "source": [
    "scores = model.evaluate(X_valid, y_valid, verbose=1)\n",
    "print('Validation loss:', scores[0])\n",
    "print('Validation accuracy:', scores[1])"
   ]
  },
  {
   "cell_type": "markdown",
   "metadata": {},
   "source": [
    "# 將testdata從load_test_data function(utils.py)裡叫出來"
   ]
  },
  {
   "cell_type": "code",
   "execution_count": null,
   "metadata": {},
   "outputs": [],
   "source": [
    "X_test, X_id = load_test_data()"
   ]
  },
  {
   "cell_type": "markdown",
   "metadata": {},
   "source": [
    "## 將csv輸出"
   ]
  },
  {
   "cell_type": "code",
   "execution_count": 14,
   "metadata": {},
   "outputs": [],
   "source": [
    "y_test_pred = model.predict_classes(X_test)\n",
    "y_test_pred_df = pd.DataFrame({'id': np.array(X_id), 'class':y_test_pred}).sort_values(by='id')\n",
    "y_test_pred_df.to_csv('submission.csv', index=False)"
   ]
  },
  {
   "cell_type": "markdown",
   "metadata": {},
   "source": [
    "## 印出loss與accuarancy function的學習曲線"
   ]
  },
  {
   "cell_type": "code",
   "execution_count": 15,
   "metadata": {},
   "outputs": [
    {
     "data": {
      "image/png": "[encoded data removed]",
      "text/plain": [
       "<matplotlib.figure.Figure at 0x7fb13c3d2f98>"
      ]
     },
     "metadata": {},
     "output_type": "display_data"
    }
   ],
   "source": [
    "training_loss = model_history.history['loss']\n",
    "val_loss = model_history.history['val_loss']\n",
    "\n",
    "plt.plot(training_loss, label=\"training_loss\")\n",
    "plt.plot(val_loss, label=\"validation_loss\")\n",
    "plt.xlabel(\"Epochs\")\n",
    "plt.ylabel(\"Loss\")\n",
    "plt.title(\"Learning Curve\")\n",
    "plt.legend(loc='best')\n",
    "plt.show()"
   ]
  },
  {
   "cell_type": "code",
   "execution_count": 16,
   "metadata": {},
   "outputs": [
    {
     "data": {
      "image/png": "[encoded data removed]",
      "text/plain": [
       "<matplotlib.figure.Figure at 0x7fb1086ead30>"
      ]
     },
     "metadata": {},
     "output_type": "display_data"
    }
   ],
   "source": [
    "training_acc = model_history.history['acc']\n",
    "val_acc = model_history.history['val_acc']\n",
    "\n",
    "plt.plot(training_acc, label=\"training_acc\")\n",
    "plt.plot(val_acc, label=\"validation_acc\")\n",
    "plt.xlabel(\"Epochs\")\n",
    "plt.ylabel(\"Acc\")\n",
    "plt.title(\"Learning Curve\")\n",
    "plt.legend(loc='best')\n",
    "plt.show()"
   ]
  },
  {
   "cell_type": "markdown",
   "metadata": {},
   "source": [
    "## Kaggle排名"
   ]
  },
  {
   "cell_type": "code",
   "execution_count": 13,
   "metadata": {},
   "outputs": [
    {
     "data": {
      "image/png": "[encoded data removed]",
      "text/plain": [
       "<IPython.core.display.Image object>"
      ]
     },
     "execution_count": 13,
     "metadata": {},
     "output_type": "execute_result"
    }
   ],
   "source": [
    "from IPython.display import Image\n",
    "Image(filename='kaggle.PNG')"
   ]
  },
  {
   "cell_type": "code",
   "execution_count": null,
   "metadata": {},
   "outputs": [],
   "source": []
  },
  {
   "cell_type": "code",
   "execution_count": null,
   "metadata": {},
   "outputs": [],
   "source": []
  },
  {
   "cell_type": "code",
   "execution_count": null,
   "metadata": {},
   "outputs": [],
   "source": []
  },
  {
   "cell_type": "code",
   "execution_count": null,
   "metadata": {},
   "outputs": [],
   "source": []
  },
  {
   "cell_type": "code",
   "execution_count": null,
   "metadata": {},
   "outputs": [],
   "source": []
  },
  {
   "cell_type": "code",
   "execution_count": null,
   "metadata": {},
   "outputs": [],
   "source": []
  },
  {
   "cell_type": "code",
   "execution_count": null,
   "metadata": {},
   "outputs": [],
   "source": []
  },
  {
   "cell_type": "code",
   "execution_count": null,
   "metadata": {},
   "outputs": [],
   "source": []
  }
 ],
 "metadata": {
  "kernelspec": {
   "display_name": "Python 3",
   "language": "python",
   "name": "python3"
  },
  "language_info": {
   "codemirror_mode": {
    "name": "ipython",
    "version": 3
   },
   "file_extension": ".py",
   "mimetype": "text/x-python",
   "name": "python",
   "nbconvert_exporter": "python",
   "pygments_lexer": "ipython3",
   "version": "3.6.3"
  }
 },
 "nbformat": 4,
 "nbformat_minor": 2
}
